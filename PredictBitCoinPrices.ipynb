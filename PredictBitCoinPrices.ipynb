{
 "cells": [
  {
   "cell_type": "code",
   "execution_count": 1,
   "metadata": {},
   "outputs": [],
   "source": [
    "# Importing Libraries\n",
    "import numpy as np\n",
    "import pandas as pd\n",
    "import matplotlib.pyplot as plt\n",
    "import seaborn as sns"
   ]
  },
  {
   "cell_type": "markdown",
   "metadata": {},
   "source": [
    "### We have last year's(365 days price of the bitcoin, based on which we'll predict the next 30 days price of the bitcoin)\n"
   ]
  },
  {
   "cell_type": "code",
   "execution_count": 2,
   "metadata": {},
   "outputs": [],
   "source": [
    "data = pd.read_csv('Resources/BitcoinPrice.csv')"
   ]
  },
  {
   "cell_type": "code",
   "execution_count": 3,
   "metadata": {},
   "outputs": [
    {
     "data": {
      "text/html": [
       "<div>\n",
       "<style scoped>\n",
       "    .dataframe tbody tr th:only-of-type {\n",
       "        vertical-align: middle;\n",
       "    }\n",
       "\n",
       "    .dataframe tbody tr th {\n",
       "        vertical-align: top;\n",
       "    }\n",
       "\n",
       "    .dataframe thead th {\n",
       "        text-align: right;\n",
       "    }\n",
       "</style>\n",
       "<table border=\"1\" class=\"dataframe\">\n",
       "  <thead>\n",
       "    <tr style=\"text-align: right;\">\n",
       "      <th></th>\n",
       "      <th>Date</th>\n",
       "      <th>Price</th>\n",
       "    </tr>\n",
       "  </thead>\n",
       "  <tbody>\n",
       "    <tr>\n",
       "      <th>0</th>\n",
       "      <td>2018-08-25 00:00:00</td>\n",
       "      <td>6719.429231</td>\n",
       "    </tr>\n",
       "    <tr>\n",
       "      <th>1</th>\n",
       "      <td>2018-08-26 00:00:00</td>\n",
       "      <td>6673.274167</td>\n",
       "    </tr>\n",
       "    <tr>\n",
       "      <th>2</th>\n",
       "      <td>2018-08-27 00:00:00</td>\n",
       "      <td>6719.266154</td>\n",
       "    </tr>\n",
       "    <tr>\n",
       "      <th>3</th>\n",
       "      <td>2018-08-28 00:00:00</td>\n",
       "      <td>7000.040000</td>\n",
       "    </tr>\n",
       "    <tr>\n",
       "      <th>4</th>\n",
       "      <td>2018-08-29 00:00:00</td>\n",
       "      <td>7054.276429</td>\n",
       "    </tr>\n",
       "  </tbody>\n",
       "</table>\n",
       "</div>"
      ],
      "text/plain": [
       "                  Date        Price\n",
       "0  2018-08-25 00:00:00  6719.429231\n",
       "1  2018-08-26 00:00:00  6673.274167\n",
       "2  2018-08-27 00:00:00  6719.266154\n",
       "3  2018-08-28 00:00:00  7000.040000\n",
       "4  2018-08-29 00:00:00  7054.276429"
      ]
     },
     "execution_count": 3,
     "metadata": {},
     "output_type": "execute_result"
    }
   ],
   "source": [
    "data.head()\n",
    "#data.tail()"
   ]
  },
  {
   "cell_type": "code",
   "execution_count": 4,
   "metadata": {},
   "outputs": [
    {
     "name": "stdout",
     "output_type": "stream",
     "text": [
      "<class 'pandas.core.frame.DataFrame'>\n",
      "RangeIndex: 365 entries, 0 to 364\n",
      "Data columns (total 2 columns):\n",
      " #   Column  Non-Null Count  Dtype  \n",
      "---  ------  --------------  -----  \n",
      " 0   Date    365 non-null    object \n",
      " 1   Price   365 non-null    float64\n",
      "dtypes: float64(1), object(1)\n",
      "memory usage: 5.8+ KB\n"
     ]
    }
   ],
   "source": [
    "data.info()"
   ]
  },
  {
   "cell_type": "code",
   "execution_count": 5,
   "metadata": {},
   "outputs": [
    {
     "data": {
      "text/html": [
       "<div>\n",
       "<style scoped>\n",
       "    .dataframe tbody tr th:only-of-type {\n",
       "        vertical-align: middle;\n",
       "    }\n",
       "\n",
       "    .dataframe tbody tr th {\n",
       "        vertical-align: top;\n",
       "    }\n",
       "\n",
       "    .dataframe thead th {\n",
       "        text-align: right;\n",
       "    }\n",
       "</style>\n",
       "<table border=\"1\" class=\"dataframe\">\n",
       "  <thead>\n",
       "    <tr style=\"text-align: right;\">\n",
       "      <th></th>\n",
       "      <th>Price</th>\n",
       "    </tr>\n",
       "  </thead>\n",
       "  <tbody>\n",
       "    <tr>\n",
       "      <th>count</th>\n",
       "      <td>365.000000</td>\n",
       "    </tr>\n",
       "    <tr>\n",
       "      <th>mean</th>\n",
       "      <td>6343.278019</td>\n",
       "    </tr>\n",
       "    <tr>\n",
       "      <th>std</th>\n",
       "      <td>2578.121880</td>\n",
       "    </tr>\n",
       "    <tr>\n",
       "      <th>min</th>\n",
       "      <td>3225.299167</td>\n",
       "    </tr>\n",
       "    <tr>\n",
       "      <th>25%</th>\n",
       "      <td>3933.143333</td>\n",
       "    </tr>\n",
       "    <tr>\n",
       "      <th>50%</th>\n",
       "      <td>6296.320833</td>\n",
       "    </tr>\n",
       "    <tr>\n",
       "      <th>75%</th>\n",
       "      <td>7920.945000</td>\n",
       "    </tr>\n",
       "    <tr>\n",
       "      <th>max</th>\n",
       "      <td>12686.388333</td>\n",
       "    </tr>\n",
       "  </tbody>\n",
       "</table>\n",
       "</div>"
      ],
      "text/plain": [
       "              Price\n",
       "count    365.000000\n",
       "mean    6343.278019\n",
       "std     2578.121880\n",
       "min     3225.299167\n",
       "25%     3933.143333\n",
       "50%     6296.320833\n",
       "75%     7920.945000\n",
       "max    12686.388333"
      ]
     },
     "execution_count": 5,
     "metadata": {},
     "output_type": "execute_result"
    }
   ],
   "source": [
    "data.describe()"
   ]
  },
  {
   "cell_type": "code",
   "execution_count": 6,
   "metadata": {},
   "outputs": [
    {
     "data": {
      "text/html": [
       "<div>\n",
       "<style scoped>\n",
       "    .dataframe tbody tr th:only-of-type {\n",
       "        vertical-align: middle;\n",
       "    }\n",
       "\n",
       "    .dataframe tbody tr th {\n",
       "        vertical-align: top;\n",
       "    }\n",
       "\n",
       "    .dataframe thead th {\n",
       "        text-align: right;\n",
       "    }\n",
       "</style>\n",
       "<table border=\"1\" class=\"dataframe\">\n",
       "  <thead>\n",
       "    <tr style=\"text-align: right;\">\n",
       "      <th></th>\n",
       "      <th>Price</th>\n",
       "    </tr>\n",
       "  </thead>\n",
       "  <tbody>\n",
       "    <tr>\n",
       "      <th>0</th>\n",
       "      <td>6719.429231</td>\n",
       "    </tr>\n",
       "    <tr>\n",
       "      <th>1</th>\n",
       "      <td>6673.274167</td>\n",
       "    </tr>\n",
       "    <tr>\n",
       "      <th>2</th>\n",
       "      <td>6719.266154</td>\n",
       "    </tr>\n",
       "    <tr>\n",
       "      <th>3</th>\n",
       "      <td>7000.040000</td>\n",
       "    </tr>\n",
       "    <tr>\n",
       "      <th>4</th>\n",
       "      <td>7054.276429</td>\n",
       "    </tr>\n",
       "  </tbody>\n",
       "</table>\n",
       "</div>"
      ],
      "text/plain": [
       "         Price\n",
       "0  6719.429231\n",
       "1  6673.274167\n",
       "2  6719.266154\n",
       "3  7000.040000\n",
       "4  7054.276429"
      ]
     },
     "execution_count": 6,
     "metadata": {},
     "output_type": "execute_result"
    }
   ],
   "source": [
    "data.drop(['Date'],1,inplace=True)\n",
    "data.head()"
   ]
  },
  {
   "cell_type": "code",
   "execution_count": 7,
   "metadata": {},
   "outputs": [],
   "source": [
    "# Prodicting 30 days in future\n",
    "\n",
    "p_days = 30\n",
    "data['prediction'] = data[['Price']].shift(-p_days)"
   ]
  },
  {
   "cell_type": "code",
   "execution_count": 8,
   "metadata": {},
   "outputs": [
    {
     "data": {
      "text/html": [
       "<div>\n",
       "<style scoped>\n",
       "    .dataframe tbody tr th:only-of-type {\n",
       "        vertical-align: middle;\n",
       "    }\n",
       "\n",
       "    .dataframe tbody tr th {\n",
       "        vertical-align: top;\n",
       "    }\n",
       "\n",
       "    .dataframe thead th {\n",
       "        text-align: right;\n",
       "    }\n",
       "</style>\n",
       "<table border=\"1\" class=\"dataframe\">\n",
       "  <thead>\n",
       "    <tr style=\"text-align: right;\">\n",
       "      <th></th>\n",
       "      <th>Price</th>\n",
       "      <th>prediction</th>\n",
       "    </tr>\n",
       "  </thead>\n",
       "  <tbody>\n",
       "    <tr>\n",
       "      <th>0</th>\n",
       "      <td>6719.429231</td>\n",
       "      <td>6639.304167</td>\n",
       "    </tr>\n",
       "    <tr>\n",
       "      <th>1</th>\n",
       "      <td>6673.274167</td>\n",
       "      <td>6412.459167</td>\n",
       "    </tr>\n",
       "    <tr>\n",
       "      <th>2</th>\n",
       "      <td>6719.266154</td>\n",
       "      <td>6468.631667</td>\n",
       "    </tr>\n",
       "    <tr>\n",
       "      <th>3</th>\n",
       "      <td>7000.040000</td>\n",
       "      <td>6535.476667</td>\n",
       "    </tr>\n",
       "    <tr>\n",
       "      <th>4</th>\n",
       "      <td>7054.276429</td>\n",
       "      <td>6677.342500</td>\n",
       "    </tr>\n",
       "  </tbody>\n",
       "</table>\n",
       "</div>"
      ],
      "text/plain": [
       "         Price   prediction\n",
       "0  6719.429231  6639.304167\n",
       "1  6673.274167  6412.459167\n",
       "2  6719.266154  6468.631667\n",
       "3  7000.040000  6535.476667\n",
       "4  7054.276429  6677.342500"
      ]
     },
     "execution_count": 8,
     "metadata": {},
     "output_type": "execute_result"
    }
   ],
   "source": [
    "data.head()"
   ]
  },
  {
   "cell_type": "code",
   "execution_count": 9,
   "metadata": {},
   "outputs": [
    {
     "data": {
      "text/html": [
       "<div>\n",
       "<style scoped>\n",
       "    .dataframe tbody tr th:only-of-type {\n",
       "        vertical-align: middle;\n",
       "    }\n",
       "\n",
       "    .dataframe tbody tr th {\n",
       "        vertical-align: top;\n",
       "    }\n",
       "\n",
       "    .dataframe thead th {\n",
       "        text-align: right;\n",
       "    }\n",
       "</style>\n",
       "<table border=\"1\" class=\"dataframe\">\n",
       "  <thead>\n",
       "    <tr style=\"text-align: right;\">\n",
       "      <th></th>\n",
       "      <th>Price</th>\n",
       "      <th>prediction</th>\n",
       "    </tr>\n",
       "  </thead>\n",
       "  <tbody>\n",
       "    <tr>\n",
       "      <th>360</th>\n",
       "      <td>10746.507692</td>\n",
       "      <td>NaN</td>\n",
       "    </tr>\n",
       "    <tr>\n",
       "      <th>361</th>\n",
       "      <td>10169.094167</td>\n",
       "      <td>NaN</td>\n",
       "    </tr>\n",
       "    <tr>\n",
       "      <th>362</th>\n",
       "      <td>10030.746667</td>\n",
       "      <td>NaN</td>\n",
       "    </tr>\n",
       "    <tr>\n",
       "      <th>363</th>\n",
       "      <td>10255.977500</td>\n",
       "      <td>NaN</td>\n",
       "    </tr>\n",
       "    <tr>\n",
       "      <th>364</th>\n",
       "      <td>10158.540833</td>\n",
       "      <td>NaN</td>\n",
       "    </tr>\n",
       "  </tbody>\n",
       "</table>\n",
       "</div>"
      ],
      "text/plain": [
       "            Price  prediction\n",
       "360  10746.507692         NaN\n",
       "361  10169.094167         NaN\n",
       "362  10030.746667         NaN\n",
       "363  10255.977500         NaN\n",
       "364  10158.540833         NaN"
      ]
     },
     "execution_count": 9,
     "metadata": {},
     "output_type": "execute_result"
    }
   ],
   "source": [
    "data.tail()"
   ]
  },
  {
   "cell_type": "code",
   "execution_count": 18,
   "metadata": {},
   "outputs": [],
   "source": [
    "X = np.array(data.drop(['prediction'],1))"
   ]
  },
  {
   "cell_type": "code",
   "execution_count": 19,
   "metadata": {},
   "outputs": [],
   "source": [
    "X = X[: len(data)-p_days]"
   ]
  },
  {
   "cell_type": "code",
   "execution_count": 22,
   "metadata": {},
   "outputs": [
    {
     "data": {
      "text/plain": [
       "(335, 1)"
      ]
     },
     "execution_count": 22,
     "metadata": {},
     "output_type": "execute_result"
    }
   ],
   "source": [
    "X.shape\n"
   ]
  },
  {
   "cell_type": "code",
   "execution_count": 23,
   "metadata": {},
   "outputs": [],
   "source": [
    "y = np.array(data['prediction'])\n",
    "y=y[: -p_days]"
   ]
  },
  {
   "cell_type": "code",
   "execution_count": 24,
   "metadata": {},
   "outputs": [
    {
     "data": {
      "text/plain": [
       "(335,)"
      ]
     },
     "execution_count": 24,
     "metadata": {},
     "output_type": "execute_result"
    }
   ],
   "source": [
    "y.shape"
   ]
  },
  {
   "cell_type": "code",
   "execution_count": 25,
   "metadata": {},
   "outputs": [],
   "source": [
    "# Splitting the data to train and test set\n",
    "from sklearn.model_selection import train_test_split\n",
    "X_train,X_test,y_train,y_test = train_test_split(X,y,test_size=0.2)"
   ]
  },
  {
   "cell_type": "code",
   "execution_count": 26,
   "metadata": {},
   "outputs": [],
   "source": [
    "P_days_array = np.array(data.drop(['prediction'],1))[-p_days:]"
   ]
  },
  {
   "cell_type": "code",
   "execution_count": 27,
   "metadata": {},
   "outputs": [
    {
     "data": {
      "text/plain": [
       "array([[ 9774.2575    ],\n",
       "       [ 9725.4025    ],\n",
       "       [ 9500.32416667],\n",
       "       [ 9533.97933333],\n",
       "       [ 9539.7125    ],\n",
       "       [ 9873.81166667],\n",
       "       [10088.8       ],\n",
       "       [10478.90166667],\n",
       "       [10790.63      ],\n",
       "       [10826.275     ],\n",
       "       [11713.16166667],\n",
       "       [11759.01916667],\n",
       "       [11703.73833333],\n",
       "       [11803.88833333],\n",
       "       [11816.9125    ],\n",
       "       [11586.1725    ],\n",
       "       [11377.80416667],\n",
       "       [11397.80166667],\n",
       "       [11144.38916667],\n",
       "       [10450.81333333],\n",
       "       [ 9988.9475    ],\n",
       "       [10230.73333333],\n",
       "       [10292.38333333],\n",
       "       [10295.1175    ],\n",
       "       [10605.82583333],\n",
       "       [10746.50769231],\n",
       "       [10169.09416667],\n",
       "       [10030.74666667],\n",
       "       [10255.9775    ],\n",
       "       [10158.54083333]])"
      ]
     },
     "execution_count": 27,
     "metadata": {},
     "output_type": "execute_result"
    }
   ],
   "source": [
    "P_days_array"
   ]
  },
  {
   "cell_type": "code",
   "execution_count": 28,
   "metadata": {},
   "outputs": [
    {
     "name": "stdout",
     "output_type": "stream",
     "text": [
      "Random Forest Accuracy : 82.37%\n"
     ]
    }
   ],
   "source": [
    "# Model Building\n",
    "from sklearn.ensemble import RandomForestRegressor\n",
    "Rf = RandomForestRegressor(n_estimators = 1000, random_state = 1)\n",
    "Rf.fit(X_train,y_train)\n",
    "print('Random Forest Accuracy : {:.2f}%'.format(Rf.score(X_test,y_test)*100))"
   ]
  },
  {
   "cell_type": "code",
   "execution_count": 29,
   "metadata": {},
   "outputs": [
    {
     "data": {
      "text/plain": [
       "array([10099.64855288,  6413.15468635,  5422.46473583,  4826.22179667,\n",
       "        3733.56906167, 11027.51929333,  5112.92724583,  3626.21182917,\n",
       "        3651.32659583,  5384.28998833,  5552.36130455,  4519.31894821,\n",
       "        3956.63019   ,  4322.90360583,  4025.95995049, 10336.28507551,\n",
       "        4299.39988487,  3797.185683  ,  4015.95953167,  3818.48781756,\n",
       "        6508.18958417,  3837.97793923,  5620.67113301,  9194.60565801,\n",
       "        6071.68250083, 10131.86211013,  8083.0508275 , 10608.48934596,\n",
       "        6711.23091827,  3813.75996875,  4723.79573481, 11110.7309166 ,\n",
       "        3900.20828   ,  3872.7821575 ,  4547.9154475 ,  6712.32698494,\n",
       "        3703.03701481,  3715.58681833,  5073.7961775 ,  4321.37078622,\n",
       "        5384.6419675 , 10728.29500526,  4476.28942312,  5026.60395679,\n",
       "        4445.5883425 ,  4213.30108917,  4563.6620675 , 10203.089825  ,\n",
       "        6177.63344833, 10218.98949083,  6276.76936583, 11614.99932455,\n",
       "       10302.87836167,  6491.1259335 ,  3483.53979   ,  4322.46326   ,\n",
       "        3837.40488923,  6414.95968333,  6714.87367583,  3667.08913967,\n",
       "        3885.14719436,  4413.17522333,  3995.92976385,  3866.31875107,\n",
       "        3651.32659583,  5863.52209083,  3837.40488923])"
      ]
     },
     "execution_count": 29,
     "metadata": {},
     "output_type": "execute_result"
    }
   ],
   "source": [
    "# Prediction\n",
    "Rf_predict = Rf.predict(X_test)\n",
    "Rf_predict"
   ]
  },
  {
   "cell_type": "code",
   "execution_count": 30,
   "metadata": {},
   "outputs": [
    {
     "data": {
      "text/plain": [
       "array([10158.54083333,  6260.53083333,  6176.155     ,  5262.36333333,\n",
       "        3905.05833333,  9725.4025    ,  5305.275     ,  3406.82083333,\n",
       "        3604.1175    ,  5274.14583333,  6488.82583333,  3589.26083333,\n",
       "        3865.7975    ,  3910.97333333,  4107.34083333,  9160.0675    ,\n",
       "        3458.70333333,  3634.77      ,  3454.00882353,  3813.88      ,\n",
       "        6412.45916667,  3863.33333333,  3523.96      ,  8721.645     ,\n",
       "        6309.45285714, 10088.8       ,  8046.10769231, 11314.76153846,\n",
       "        8063.89583333,  3468.305     ,  3961.49333333,  9346.0725    ,\n",
       "        3948.41166667,  3812.58583333,  6581.48666667,  7979.575     ,\n",
       "        3406.7625    ,  3624.15583333,  5114.85416667,  5421.52666667,\n",
       "        5214.57416667, 10748.01166667,  4011.36583333,  5031.475     ,\n",
       "        6596.61833333,  3743.905     ,  6299.39916667, 10569.305     ,\n",
       "        8546.17166667, 10255.9775    ,  7848.41583333, 10300.4875    ,\n",
       "       11759.01916667,  6498.48583333,  3567.47      ,  4015.60916667,\n",
       "        3827.4875    ,  6486.25166667,  6590.96833333,  3896.71833333,\n",
       "        6618.56769231,  8663.6425    ,  4000.335     ,  4011.0925    ,\n",
       "        3656.785     ,  5697.92333333,  3827.69083333])"
      ]
     },
     "execution_count": 30,
     "metadata": {},
     "output_type": "execute_result"
    }
   ],
   "source": [
    "y_test"
   ]
  },
  {
   "cell_type": "code",
   "execution_count": 31,
   "metadata": {},
   "outputs": [
    {
     "data": {
      "text/plain": [
       "array([10203.089825  , 10199.65718833, 10264.00778333, 10264.00778333,\n",
       "       10264.00778333, 10113.20385019, 10200.61780929, 10294.01961378,\n",
       "       10133.33886833, 10123.4644275 , 10035.66870683, 10866.7085525 ,\n",
       "       10035.66870683, 11223.55679733, 11223.55679733, 11181.14739417,\n",
       "       11464.0447675 , 11464.0447675 , 10629.57425833, 10244.36642045,\n",
       "       10096.33592205, 10081.97139429, 10131.86211013, 10131.86211013,\n",
       "       10615.89652365, 10147.99230833, 10200.61780929, 10099.64855288,\n",
       "       10115.23977596, 10200.61780929])"
      ]
     },
     "execution_count": 31,
     "metadata": {},
     "output_type": "execute_result"
    }
   ],
   "source": [
    "# Model predicion for 30 days\n",
    "Rf_predict_30 = Rf.predict(P_days_array)\n",
    "Rf_predict_30"
   ]
  }
 ],
 "metadata": {
  "kernelspec": {
   "display_name": "Python 3",
   "language": "python",
   "name": "python3"
  },
  "language_info": {
   "codemirror_mode": {
    "name": "ipython",
    "version": 3
   },
   "file_extension": ".py",
   "mimetype": "text/x-python",
   "name": "python",
   "nbconvert_exporter": "python",
   "pygments_lexer": "ipython3",
   "version": "3.7.7"
  }
 },
 "nbformat": 4,
 "nbformat_minor": 4
}
